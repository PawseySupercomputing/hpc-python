{
 "cells": [
  {
   "cell_type": "code",
   "execution_count": null,
   "metadata": {
    "collapsed": true
   },
   "outputs": [],
   "source": [
    "# Imports we'll need...\n",
    "from astropy.constants import G\n",
    "import astropy.units as u\n",
    "import numpy as np\n",
    "import matplotlib as mpl\n",
    "import matplotlib.pyplot as plt\n",
    "%matplotlib inline"
   ]
  },
  {
   "cell_type": "code",
   "execution_count": null,
   "metadata": {
    "collapsed": true
   },
   "outputs": [],
   "source": [
    "# The unit system we'll use:\n",
    "units = [u.Myr, u.kpc, u.Msun]"
   ]
  },
  {
   "cell_type": "markdown",
   "metadata": {},
   "source": [
    "# Cython\n",
    "\n",
    "Cython is a hybrid language that is a superset of Python---i.e. it supports all Python syntax---but adds new C-like syntax to support declaring types, directly interfacing with C (and C++) code, and wrapping C (and C++) code. Cython has to be converted to C and compiled before it can be used from Python, but that is taken care of by the Cython generator. The compilation can either be done manually (i.e. by executing a compiler, like `gcc` on the Cython output), or as a part of the build process of a package. \n",
    "\n",
    "Cython comes with an [IPython magic command](http://ipython.readthedocs.io/en/stable/interactive/magics.html) that allows you to write Cython code in a cell, which is then converted and compiled on the fly for you. In the tutorial today, we're going to go through each way of interacting with Cython, starting with this notebook.\n",
    "\n",
    "## When to use Cython\n",
    "\n",
    "Cython is a useful tool for optimizing Python code once you identify the bottleneck. I don't recommend ever completely re-writing your code in C or Cython, but instead find the slow parts and re-implement that in Cython. I always try to optimize my algorithms and use Numpy as much as possible before deciding to use Cython. It's also not the only option - new Just In Time (JIT) compilers are successful for some applications (see [numba](https://numba.pydata.org/)).\n",
    "\n",
    "## Questions to ask before firing up Cython\n",
    "\n",
    "* Can I improve the algorithm? $n^2$ -> $n\\,\\log(n)$?\n",
    "* Can I optimize my Python code? e.g., use list comprehensions vs. loops...\n",
    "* Can I replace loops with Numpy array operations?\n",
    "* Do I really need to speed this up?\n",
    "* ::sigh:: ok use Cython / Numba\n",
    "\n",
    "## Setting up the problem\n",
    "\n",
    "As an example of a place where Cython can really shine, we're going to look at numerical integration of an orbit under the influence of some external gravitational potential. We'll start by implementing everything in Python, and then build up to an optimized Cython version of the code that speeds up the orbit calculation immensely. "
   ]
  },
  {
   "cell_type": "markdown",
   "metadata": {},
   "source": [
    "A little more verbosely, we want to numerically solve for $\\boldsymbol{x}(t)$ and $\\boldsymbol{v}(t)$ given a gravitational potential $\\Phi(\\boldsymbol{x})$ and initial conditions $\\boldsymbol{x}_0$, $\\boldsymbol{v}_0$. To do this, we'll use the Leapfrog integration scheme. With the gravitational potential, we'll need to write an expression and function to compute the acceleration $a(\\boldsymbol{x})$. With initial conditions and the acceleration, Leapfrog integration works iteratively as follows:\n",
    "\n",
    "$$\n",
    "\\begin{align}\n",
    "\\boldsymbol{x}_i &= \\boldsymbol{x}_{i-1} + \\boldsymbol{v}_{i-1/2}\\,\\Delta t\\\\\n",
    "\\boldsymbol{a}_i &= \\boldsymbol{a}(\\boldsymbol{x}_i)\\\\\n",
    "\\boldsymbol{v}_{i+1/2} &= \\boldsymbol{v}_{i-1/2} + \\boldsymbol{a}_i\\,\\Delta t\n",
    "\\end{align}\n",
    "$$\n",
    "\n",
    "In practice, we will want to store the positions and velocities at the synced timestep $i$. We'll therefore implement this scheme as:\n",
    "\n",
    "$$\n",
    "\\begin{align}\n",
    "\\boldsymbol{x}_i &= \\boldsymbol{x}_{i-1} + \\boldsymbol{v}_{i-1/2}\\,\\Delta t\\\\\n",
    "\\boldsymbol{a}_i &= \\boldsymbol{a}(\\boldsymbol{x}_i)\\\\\n",
    "\\boldsymbol{v}_{i} &= \\boldsymbol{v}_{i-1/2} + \\boldsymbol{a}_i\\,\\frac{\\Delta t}{2}\\\\\n",
    "\\boldsymbol{v}_{i+1/2} &= \\boldsymbol{v}_{i} + \\boldsymbol{a}_i\\,\\frac{\\Delta t}{2}\n",
    "\\end{align}\n",
    "$$\n",
    "\n",
    "The acceleration function is just:\n",
    "\n",
    "$$\n",
    "\\boldsymbol{a}(\\boldsymbol{x}) = -\\boldsymbol{\\nabla} \\Phi(\\boldsymbol{x})\n",
    "$$\n",
    "\n",
    "For this example, we'll use the [Hernquist potential](http://adsabs.harvard.edu/abs/1990ApJ...356..359H), defined as:\n",
    "\n",
    "$$\n",
    "\\Phi(r) = -\\frac{G\\,m}{r + c}\n",
    "$$\n",
    "\n",
    "The acceleration is therefore:\n",
    "\n",
    "$$\n",
    "\\boldsymbol{a}(\\boldsymbol{x}) = -\\frac{G\\,m}{(r + c)^2} \\, \\frac{\\boldsymbol{x}}{r}\n",
    "$$\n",
    "\n",
    "We'll allow the parameters $m$ and $c$ to be changeable, but start by using:\n",
    "\n",
    "$$\n",
    "\\begin{align}\n",
    "m &= 10^{11}~{\\rm M}_\\odot\\\\\n",
    "c &= 1~{\\rm kpc}\n",
    "\\end{align}\n",
    "$$"
   ]
  },
  {
   "cell_type": "code",
   "execution_count": null,
   "metadata": {
    "collapsed": true
   },
   "outputs": [],
   "source": [
    "# parameters of the gravitational potential\n",
    "m = 1E11 # Msun\n",
    "c = 1. # kpc\n",
    "\n",
    "# value of G in our unit system\n",
    "_G = G.decompose(units).value"
   ]
  },
  {
   "cell_type": "markdown",
   "metadata": {},
   "source": [
    "First, we'll write a Python function to compute the acceleration above:"
   ]
  },
  {
   "cell_type": "code",
   "execution_count": null,
   "metadata": {
    "collapsed": true
   },
   "outputs": [],
   "source": [
    "def hernquist_acceleration(xyz, G, m, c):\n",
    "    r = np.sqrt(xyz[0]**2 + xyz[1]**2 + xyz[2]**2)\n",
    "    dPhi_dr = G * m / (r + c)**2\n",
    "    return -dPhi_dr * xyz / r"
   ]
  },
  {
   "cell_type": "markdown",
   "metadata": {},
   "source": [
    "Now we'll implement the Leapfrog integration scheme. We need to specify initial conditions, a timestep, and a number of steps to run for. We'll return the time, position, and velocity arrays for the numerical orbit:"
   ]
  },
  {
   "cell_type": "code",
   "execution_count": null,
   "metadata": {
    "collapsed": true
   },
   "outputs": [],
   "source": [
    "def leapfrog_hernquist(x0, v0, dt, n_steps, hernquist_args=()):\n",
    "    \n",
    "    # ensure that the initial conditions are arrays\n",
    "    x0 = np.array(x0)\n",
    "    v0 = np.array(v0)\n",
    "    \n",
    "    # Create arrays to store positions and velocities at all times\n",
    "    x = np.zeros((n_steps+1, 3))\n",
    "    v = np.zeros((n_steps+1, 3))\n",
    "    t = np.zeros(n_steps+1)\n",
    "    \n",
    "    x[0] = x0\n",
    "    v[0] = v0\n",
    "    \n",
    "    # Increment velocity by 1/2 step \n",
    "    v_iminus1_2 = v0 + dt/2. * hernquist_acceleration(x0, *hernquist_args)\n",
    "    for i in range(1, n_steps+1):\n",
    "        x[i] = x[i-1] + v_iminus1_2 * dt # full step\n",
    "        \n",
    "        a_i = hernquist_acceleration(x[i], *hernquist_args)\n",
    "        v[i] = v_iminus1_2 + a_i * dt/2. # half step\n",
    "        v_iminus1_2 = v[i] + a_i * dt/2. # another half step\n",
    "        \n",
    "        t[i] = t[i-1] + dt\n",
    "    \n",
    "    return t, x, v"
   ]
  },
  {
   "cell_type": "code",
   "execution_count": null,
   "metadata": {
    "collapsed": true
   },
   "outputs": [],
   "source": [
    "# We'll define these so we can reuse them later:\n",
    "x0 = [10., 0, 0]\n",
    "v0 = [0, 0.15, 0]\n",
    "dt = 1.\n",
    "n_steps = 100000\n",
    "\n",
    "t, x, v = leapfrog_hernquist(x0=x0, v0=v0,\n",
    "                             dt=dt, n_steps=n_steps,  \n",
    "                             hernquist_args=(_G, m, c))"
   ]
  },
  {
   "cell_type": "code",
   "execution_count": null,
   "metadata": {
    "collapsed": true
   },
   "outputs": [],
   "source": [
    "fig, axes = plt.subplots(1, 2, figsize=(10,5))\n",
    "\n",
    "axes[0].plot(x[:,0], x[:,1], marker='.', linestyle='none', alpha=0.1)\n",
    "axes[0].set_xlim(-12, 12)\n",
    "axes[0].set_ylim(-12, 12)\n",
    "\n",
    "axes[0].set_xlabel('$x$')\n",
    "axes[0].set_ylabel('$y$')\n",
    "\n",
    "# ---\n",
    "\n",
    "axes[1].plot(v[:,0], v[:,1], marker='.', linestyle='none', alpha=0.1)\n",
    "axes[1].set_xlim(-0.35, 0.35)\n",
    "axes[1].set_ylim(-0.35, 0.35)\n",
    "\n",
    "axes[1].set_xlabel('$v_x$')\n",
    "axes[1].set_ylabel('$v_y$')\n",
    "\n",
    "fig.tight_layout()"
   ]
  },
  {
   "cell_type": "code",
   "execution_count": null,
   "metadata": {
    "collapsed": true
   },
   "outputs": [],
   "source": [
    "%%time\n",
    "_ = leapfrog_hernquist(x0=x0, v0=v0,\n",
    "                       dt=dt, n_steps=n_steps, \n",
    "                       hernquist_args=(_G, m, c))"
   ]
  },
  {
   "cell_type": "markdown",
   "metadata": {},
   "source": [
    "This didn't take *that* long (we integrated for a really long time!), but what if we need to integrate thousands of orbits simultaneously? Or have more complicated potential models to use? Or want to do an N-body simulation? \n",
    "\n",
    "* Can we improve the algorithm? No - Leapfrog is one of the simplest integration schemes!\n",
    "* Can we optimize the Python code? Not really\n",
    "* Can we replace loops with Numpy array operations? No - this is an iterative scheme\n",
    "* Do I really need to speed this up? Maybe...but let's say yes"
   ]
  },
  {
   "cell_type": "markdown",
   "metadata": {},
   "source": [
    "# Cython in IPython"
   ]
  },
  {
   "cell_type": "code",
   "execution_count": null,
   "metadata": {
    "collapsed": true
   },
   "outputs": [],
   "source": [
    "# Enables the Cython \"magic\" command %%cython\n",
    "%load_ext Cython"
   ]
  },
  {
   "cell_type": "markdown",
   "metadata": {},
   "source": [
    "Let's start by writing exactly the same code as above in Cython, and just verify that it successfully compiles:"
   ]
  },
  {
   "cell_type": "code",
   "execution_count": null,
   "metadata": {
    "collapsed": true
   },
   "outputs": [],
   "source": [
    "%%cython\n",
    "\n",
    "import numpy as np\n",
    "\n",
    "# abbreviated function name for laziness...\n",
    "def acc_cy1(xyz, G, m, c):\n",
    "    r = np.sqrt(xyz[0]**2 + xyz[1]**2 + xyz[2]**2)\n",
    "    dPhi_dr = G * m / (r + c)**2\n",
    "    return -dPhi_dr * xyz / r\n",
    "\n",
    "# and another abbreviated function name for laziness...\n",
    "def leapfrog_cy1(x0, v0, dt, n_steps, hernquist_args=()):\n",
    "   \n",
    "    # ensure that the initial conditions are arrays\n",
    "    x0 = np.array(x0)\n",
    "    v0 = np.array(v0)\n",
    "    \n",
    "    # Create arrays to store positions and velocities at all times\n",
    "    x = np.zeros((n_steps+1, 3))\n",
    "    v = np.zeros((n_steps+1, 3))\n",
    "    t = np.zeros(n_steps+1)\n",
    "    \n",
    "    x[0] = x0\n",
    "    v[0] = v0\n",
    "    \n",
    "    # Increment velocity by 1/2 step \n",
    "    v_iminus1_2 = v0 + dt/2. * acc_cy1(x0, *hernquist_args)\n",
    "    for i in range(1, n_steps+1):\n",
    "        x[i] = x[i-1] + v_iminus1_2 * dt # full step\n",
    "        \n",
    "        a_i = acc_cy1(x[i], *hernquist_args)\n",
    "        v[i] = v_iminus1_2 + a_i * dt/2. # half step\n",
    "        v_iminus1_2 = v[i] + a_i * dt/2. # another half step\n",
    "        \n",
    "        t[i] = t[i-1] + dt\n",
    "    \n",
    "    return t, x, v"
   ]
  },
  {
   "cell_type": "code",
   "execution_count": null,
   "metadata": {
    "collapsed": true
   },
   "outputs": [],
   "source": [
    "%%time\n",
    "leapfrog_cy1(x0=x0, v0=v0,\n",
    "             dt=dt, n_steps=n_steps, \n",
    "             hernquist_args=(_G, m, c))"
   ]
  },
  {
   "cell_type": "markdown",
   "metadata": {},
   "source": [
    "We didn't change anything, but got a ~10–20% speed improvement! But we're looking for orders of magnitude speed improvement.\n",
    "\n",
    "So why is this still slow? Even though we compile it to C using Cython, it's still going through the Python layer. Python is written in C, so the generated C code is actually what Python uses to execute any code! One way we can see this is to use Cython's \"annotate\" feature to look at what lines hit the Python layer (and thus slow us down). This is the exact same code as above, but with `--annotate` added after the Cython magic:"
   ]
  },
  {
   "cell_type": "code",
   "execution_count": null,
   "metadata": {
    "collapsed": true,
    "scrolled": false
   },
   "outputs": [],
   "source": [
    "%%cython --annotate\n",
    "\n",
    "import numpy as np\n",
    "\n",
    "def acc_cy1(xyz, G, m, c):\n",
    "    r = np.sqrt(xyz[0]**2 + xyz[1]**2 + xyz[2]**2)\n",
    "    dPhi_dr = G * m / (r + c)**2\n",
    "    return -dPhi_dr * xyz / r\n",
    "\n",
    "def leapfrog_cy1(x0, v0, dt, n_steps, hernquist_args=()):\n",
    "   \n",
    "    # ensure that the initial conditions are arrays\n",
    "    x0 = np.array(x0)\n",
    "    v0 = np.array(v0)\n",
    "    \n",
    "    # Create arrays to store positions and velocities at all times\n",
    "    x = np.zeros((n_steps+1, 3))\n",
    "    v = np.zeros((n_steps+1, 3))\n",
    "    t = np.zeros(n_steps+1)\n",
    "    \n",
    "    x[0] = x0\n",
    "    v[0] = v0\n",
    "    \n",
    "    # Increment velocity by 1/2 step \n",
    "    v_iminus1_2 = v0 + dt/2. * acc_cy1(x0, *hernquist_args)\n",
    "    for i in range(1, n_steps+1):\n",
    "        x[i] = x[i-1] + v_iminus1_2 * dt # full step\n",
    "        \n",
    "        a_i = acc_cy1(x[i], *hernquist_args)\n",
    "        v[i] = v_iminus1_2 + a_i * dt/2. # half step\n",
    "        v_iminus1_2 = v[i] + a_i * dt/2. # another half step\n",
    "        \n",
    "        t[i] = t[i-1] + dt\n",
    "    \n",
    "    return t, x, v"
   ]
  },
  {
   "cell_type": "markdown",
   "metadata": {},
   "source": [
    "In the above, everything yellow hints at interaction with the Python layer. We can click on a given line to see the C code it generates.\n",
    "\n",
    "---\n",
    "\n",
    "So how do we make this faster? Or, how do we remove the interaction with the Python layer? Cython will do this automatically if we write our code to look more like C. This means adding explicit types, and telling Cython to remove some of the nice features of Python like array index bounds checking. Let's start by re-writing our acceleration function to declare types and remove as much Python overhead as possible:"
   ]
  },
  {
   "cell_type": "code",
   "execution_count": null,
   "metadata": {
    "collapsed": true
   },
   "outputs": [],
   "source": [
    "%%cython --annotate\n",
    "\n",
    "import numpy as np # access to Numpy from Python layer\n",
    "cimport numpy as np # access to Numpy from Cython layer\n",
    "\n",
    "# this is like #include <math.h>, but defines the functions in Cython\n",
    "from libc.math cimport sqrt\n",
    "\n",
    "def acc_cy2(np.ndarray[np.float64_t, ndim=1] xyz, double G, double m, double a):\n",
    "    cdef:\n",
    "        double r\n",
    "        double dPhi_dr\n",
    "        np.ndarray[np.float64_t, ndim=1] a_xyz = np.zeros(3, np.float64)\n",
    "        \n",
    "    r = sqrt(xyz[0]**2 + xyz[1]**2 + xyz[2]**2)\n",
    "    dPhi_dr = G * m / (r + a)**2\n",
    "    \n",
    "    a_xyz[0] = -dPhi_dr * xyz[0] / r\n",
    "    a_xyz[1] = -dPhi_dr * xyz[1] / r\n",
    "    a_xyz[2] = -dPhi_dr * xyz[2] / r\n",
    "    \n",
    "    return a_xyz"
   ]
  },
  {
   "cell_type": "markdown",
   "metadata": {},
   "source": [
    "So why are so many of the lines still yellow? Let's take a look at one of them. \n",
    "\n",
    "Many of the lines call \"`RaiseBufferIndexError`\". This is because whenever you access the index of a variable from Python, it checks whether the index is valid given the size of the array. This is a nice feature, but adds quite a bit of overhead in the code if you are doing array access a lot. In this example, we are! The acceleration function gets called during every iteration of the loop. We can turn of bounds checking using a special decorator. While we're at it, we'll turn off a few other checks - see the [cython compiler directives](http://cython.readthedocs.io/en/latest/src/reference/compilation.html#compiler-directives) for a full list of things you can control:"
   ]
  },
  {
   "cell_type": "code",
   "execution_count": null,
   "metadata": {
    "collapsed": true
   },
   "outputs": [],
   "source": [
    "%%cython --annotate\n",
    "\n",
    "import numpy as np # access to Numpy from Python layer\n",
    "cimport numpy as np # access to Numpy from Cython layer\n",
    "\n",
    "# this is like #include <math.h>, but defines the functions in Cython\n",
    "from libc.math cimport sqrt\n",
    "\n",
    "cimport cython\n",
    "\n",
    "@cython.boundscheck(False) # won't check that index is in bounds of array\n",
    "@cython.wraparound(False) # array[-1] won't work\n",
    "@cython.nonecheck(False) # variables are never set to None\n",
    "@cython.cdivision(True) # don't protect against dividing by zero\n",
    "def acc_cy3(np.ndarray[np.float64_t, ndim=1] xyz, double G, double m, double a):\n",
    "    cdef:\n",
    "        double r\n",
    "        double dPhi_dr\n",
    "        np.ndarray[np.float64_t, ndim=1] a_xyz = np.zeros(3, np.float64)\n",
    "        \n",
    "    r = sqrt(xyz[0]**2 + xyz[1]**2 + xyz[2]**2)\n",
    "    dPhi_dr = G * m / (r + a)**2\n",
    "    \n",
    "    a_xyz[0] = -dPhi_dr * xyz[0] / r\n",
    "    a_xyz[1] = -dPhi_dr * xyz[1] / r\n",
    "    a_xyz[2] = -dPhi_dr * xyz[2] / r\n",
    "    \n",
    "    return a_xyz"
   ]
  },
  {
   "cell_type": "markdown",
   "metadata": {
    "collapsed": true
   },
   "source": [
    "Nice, ok now only a few lines are yellow:\n",
    "* the function definition\n",
    "* creating the acceleration array\n",
    "* returning the acceleration array\n",
    "\n",
    "To make this function pure C, we will:\n",
    "* make this a cdef function (only accessible from Cython)\n",
    "* pass in a pre-defined array to store the acceleration values"
   ]
  },
  {
   "cell_type": "code",
   "execution_count": null,
   "metadata": {
    "collapsed": true
   },
   "outputs": [],
   "source": [
    "%%cython --annotate\n",
    "\n",
    "import numpy as np # access to Numpy from Python layer\n",
    "cimport numpy as np # access to Numpy from Cython layer\n",
    "\n",
    "# this is like #include <math.h>, but defines the functions in Cython\n",
    "from libc.math cimport sqrt\n",
    "\n",
    "cimport cython\n",
    "\n",
    "@cython.boundscheck(False) # won't check that index is in bounds of array\n",
    "@cython.wraparound(False) # array[-1] won't work\n",
    "@cython.nonecheck(False) # variables are never set to None\n",
    "@cython.cdivision(True) # don't protect against dividing by zero\n",
    "cdef void acc_cy4(np.ndarray[np.float64_t, ndim=1] xyz, double G, double m, double a,\n",
    "                  np.ndarray[np.float64_t, ndim=1] a_xyz):\n",
    "    cdef:\n",
    "        double r\n",
    "        double dPhi_dr\n",
    "        \n",
    "    r = sqrt(xyz[0]**2 + xyz[1]**2 + xyz[2]**2)\n",
    "    dPhi_dr = G * m / (r + a)**2\n",
    "    \n",
    "    a_xyz[0] = -dPhi_dr * xyz[0] / r\n",
    "    a_xyz[1] = -dPhi_dr * xyz[1] / r\n",
    "    a_xyz[2] = -dPhi_dr * xyz[2] / r"
   ]
  },
  {
   "cell_type": "markdown",
   "metadata": {},
   "source": [
    "The above function definition still expects an array passed in *by value*. If we truly want to optimize the hell out of this function, we instead want to pass in be reference using a special Numpy/Cython type called a **memoryview**. A memoryview is like a pointer to a point in memory, but allows easy access to the data behind Numpy arrays:"
   ]
  },
  {
   "cell_type": "code",
   "execution_count": null,
   "metadata": {
    "collapsed": true
   },
   "outputs": [],
   "source": [
    "%%cython --annotate\n",
    "\n",
    "import numpy as np # access to Numpy from Python layer\n",
    "cimport numpy as np # access to Numpy from Cython layer\n",
    "\n",
    "# this is like #include <math.h>, but defines the functions in Cython\n",
    "from libc.math cimport sqrt\n",
    "\n",
    "cimport cython\n",
    "\n",
    "@cython.boundscheck(False) # won't check that index is in bounds of array\n",
    "@cython.wraparound(False) # array[-1] won't work\n",
    "@cython.nonecheck(False) # variables are never set to None\n",
    "@cython.cdivision(True) # don't protect against dividing by zero\n",
    "cdef void acc_cy5(double[::1] xyz, double G, double m, double a,\n",
    "                  double[::1] a_xyz):\n",
    "    cdef:\n",
    "        double r\n",
    "        double dPhi_dr\n",
    "        \n",
    "    r = sqrt(xyz[0]**2 + xyz[1]**2 + xyz[2]**2)\n",
    "    dPhi_dr = G * m / (r + a)**2\n",
    "    \n",
    "    a_xyz[0] = -dPhi_dr * xyz[0] / r\n",
    "    a_xyz[1] = -dPhi_dr * xyz[1] / r\n",
    "    a_xyz[2] = -dPhi_dr * xyz[2] / r"
   ]
  },
  {
   "cell_type": "markdown",
   "metadata": {},
   "source": [
    "No more yellow! This function is now basically pure C, and will have pure-C speeds when called from Cython. Let's now implement the integration function.\n",
    "\n",
    "What changes do we need to make to the leapfrog function? Mostly, add types to variables, but keep an eye out for:\n",
    "\n",
    "* Loops in Python syntax but with cdef'd variables will be converted into C loops. This removes the iteration overhead of Python and makes them C-fast\n",
    "* Array operations no longer work, so we have to explicitly deal with the 3 components of the position/velocity/acceleration\n",
    "* After filling the position and velocity memoryviews, when we return, we have to call `np.array()` to turn them back into arrays"
   ]
  },
  {
   "cell_type": "code",
   "execution_count": null,
   "metadata": {
    "collapsed": true
   },
   "outputs": [],
   "source": [
    "%%cython --annotate\n",
    "# cython: boundscheck=False, wraparound=False, nonecheck=False, cdivision=True\n",
    "\n",
    "import numpy as np # access to Numpy from Python layer\n",
    "cimport numpy as np # access to Numpy from Cython layer\n",
    "np.import_array()\n",
    "\n",
    "# this is like #include <math.h>, but defines the functions in Cython\n",
    "from libc.math cimport sqrt\n",
    "\n",
    "cimport cython\n",
    "\n",
    "cdef void acc_cy6(double[::1] xyz, double G, double m, double a,\n",
    "                  double[::1] a_xyz):\n",
    "    cdef:\n",
    "        double r\n",
    "        double dPhi_dr\n",
    "        \n",
    "    r = sqrt(xyz[0]**2 + xyz[1]**2 + xyz[2]**2)\n",
    "    dPhi_dr = G * m / (r + a)**2\n",
    "    \n",
    "    a_xyz[0] = -dPhi_dr * xyz[0] / r\n",
    "    a_xyz[1] = -dPhi_dr * xyz[1] / r\n",
    "    a_xyz[2] = -dPhi_dr * xyz[2] / r\n",
    "    \n",
    "cpdef leapfrog_cy6(x0, v0, double dt, int n_steps, hernquist_args=()):\n",
    "    cdef:\n",
    "        # define memoryview's for initial conditions\n",
    "        double[::1] _x0 = np.array(x0, np.float64)\n",
    "        double[::1] _v0 = np.array(v0, np.float64)\n",
    "    \n",
    "        # Create arrays to store positions and velocities at all times\n",
    "        double[:,::1] x = np.zeros((n_steps+1, 3), np.float64) # 2d arrays - note the [:,::1]\n",
    "        double[:,::1] v = np.zeros((n_steps+1, 3), np.float64)\n",
    "        double[::1] t = np.zeros(n_steps+1, np.float64)\n",
    "        \n",
    "        # Explicitly type the iteration variable \n",
    "        int i, k\n",
    "        \n",
    "        # placeholder for acceleration values\n",
    "        double[::1] a_i = np.zeros(3) \n",
    "        \n",
    "        # placeholder for velocity incremented by 1/2 step\n",
    "        double[::1] v_iminus1_2 = np.zeros(3) \n",
    "        \n",
    "        # explicitly typed and defined parameters\n",
    "        double G = float(hernquist_args[0])\n",
    "        double m = float(hernquist_args[1])\n",
    "        double c = float(hernquist_args[2])        \n",
    "    \n",
    "    # get the acceleration at the initial position\n",
    "    acc_cy6(_x0, G, m, c, a_i)\n",
    "    \n",
    "    # if i is cython typed, this will be a much more efficient C loop\n",
    "    for k in range(3):\n",
    "        x[0,k] = _x0[k]\n",
    "        v[0,k] = _v0[k]\n",
    "    \n",
    "        # Increment velocity by 1/2 step \n",
    "        v_iminus1_2[k] = _v0[k] + dt/2. * a_i[k]\n",
    "        \n",
    "    for i in range(1, n_steps+1):\n",
    "        for k in range(3):\n",
    "            x[i,k] = x[i-1,k] + v_iminus1_2[k] * dt # full step\n",
    "        \n",
    "        acc_cy6(x[i], G, m, c, a_i)\n",
    "        \n",
    "        for k in range(3):\n",
    "            v[i,k] = v_iminus1_2[k] + a_i[k] * dt/2. # half step\n",
    "            v_iminus1_2[k] = v[i,k] + a_i[k] * dt/2. # another half step\n",
    "        \n",
    "        t[i] = t[i-1] + dt\n",
    "    \n",
    "    # convert from memoryview to array\n",
    "    return np.array(t), np.array(x), np.array(v)"
   ]
  },
  {
   "cell_type": "code",
   "execution_count": null,
   "metadata": {
    "collapsed": true
   },
   "outputs": [],
   "source": [
    "%%time\n",
    "t_cy, x_cy, v_cy = leapfrog_cy6(x0=x0, v0=v0,\n",
    "                                dt=dt, n_steps=n_steps, \n",
    "                                hernquist_args=(_G, m, c))"
   ]
  },
  {
   "cell_type": "code",
   "execution_count": null,
   "metadata": {
    "collapsed": true
   },
   "outputs": [],
   "source": [
    "fig, axes = plt.subplots(1, 2, figsize=(10,5))\n",
    "\n",
    "axes[0].plot(x_cy[:,0], x_cy[:,1], marker='.', linestyle='none', alpha=0.1)\n",
    "axes[0].set_xlim(-12, 12)\n",
    "axes[0].set_ylim(-12, 12)\n",
    "\n",
    "axes[0].set_xlabel('$x$')\n",
    "axes[0].set_ylabel('$y$')\n",
    "\n",
    "# ---\n",
    "\n",
    "axes[1].plot(v_cy[:,0], v_cy[:,1], marker='.', linestyle='none', alpha=0.1)\n",
    "axes[1].set_xlim(-0.35, 0.35)\n",
    "axes[1].set_ylim(-0.35, 0.35)\n",
    "\n",
    "axes[1].set_xlabel('$v_x$')\n",
    "axes[1].set_ylabel('$v_y$')\n",
    "\n",
    "fig.tight_layout()"
   ]
  },
  {
   "cell_type": "markdown",
   "metadata": {},
   "source": [
    "A >200 times speedup over the initial Python-only implementation! \n",
    "\n",
    "We're now going to use this same example in a standalone module, and as a part of a package to show other ways to compile Cython."
   ]
  }
 ],
 "metadata": {
  "kernelspec": {
   "display_name": "Python [default]",
   "language": "python",
   "name": "python3"
  },
  "language_info": {
   "codemirror_mode": {
    "name": "ipython",
    "version": 3
   },
   "file_extension": ".py",
   "mimetype": "text/x-python",
   "name": "python",
   "nbconvert_exporter": "python",
   "pygments_lexer": "ipython3",
   "version": "3.5.3"
  }
 },
 "nbformat": 4,
 "nbformat_minor": 2
}
